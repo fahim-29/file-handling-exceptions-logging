{
 "cells": [
  {
   "cell_type": "markdown",
   "id": "828b681f-a1f0-4beb-84cb-59f9b8137823",
   "metadata": {},
   "source": [
    "# Name         : Fahim Ahmad\n",
    "# Assignment.  : Files, exceptional handling,logging and memory management\n",
    "# Date.        : June, 05, 2025"
   ]
  },
  {
   "cell_type": "code",
   "execution_count": null,
   "id": "08535331-bd3a-4cfc-a7ac-9fa9ebff2cba",
   "metadata": {},
   "outputs": [],
   "source": []
  },
  {
   "cell_type": "raw",
   "id": "dea8c6da-6df0-4b78-b3f6-e849c3867890",
   "metadata": {
    "tags": []
   },
   "source": []
  },
  {
   "cell_type": "markdown",
   "id": "de0376b0-9ef2-448b-9092-e3e08ecf3a43",
   "metadata": {},
   "source": [
    "\n",
    "#### Q. 1  What is the difference between interpreted and compiled languages0"
   ]
  },
  {
   "cell_type": "markdown",
   "id": "6a183b71-cbc6-48c9-8fb7-e1192ed325ba",
   "metadata": {},
   "source": [
    "**Compiled Language**\n",
    "- In a compiled language, the entire code is translated into machine code (binary) by a compiler before it runs.\n",
    "- This machine code is then executed directly by the computer.\n",
    "- Faster execution because translation happens only once.\n",
    "- Examples: C, C++, Rust, Go\n",
    "\n",
    "**Interpreted Language**\n",
    "- In an interpreted language, the code is translated line-by-line at runtime by an interpreter.\n",
    "- No separate compilation step; the interpreter reads and runs the code directly.\n",
    "- Slower execution compared to compiled languages.\n",
    "- Examples: Python, JavaScript, Ruby, PHP\n",
    "\n",
    "\n",
    "\n"
   ]
  },
  {
   "cell_type": "markdown",
   "id": "ac4eb2db-ccd1-42c0-974b-8371761da096",
   "metadata": {},
   "source": [
    "#### Q.2  What is exception handling in Python?"
   ]
  },
  {
   "cell_type": "markdown",
   "id": "621f7593-cc98-4622-849e-60af895859c0",
   "metadata": {},
   "source": [
    "- **Exception** handling in Python is a way to manage and respond to errors that occur while the code is running. If something goes wrong during execution, instead of letting the program crash, we use a try block to run the risky code and an except block to catch and handle any errors that happen."
   ]
  },
  {
   "cell_type": "markdown",
   "id": "2e609441-841a-40c2-93c7-72e88a88dead",
   "metadata": {},
   "source": [
    "#### Q.3  What is the purpose of the finally block in exception handling?"
   ]
  },
  {
   "cell_type": "markdown",
   "id": "1a3c4909-d1f4-46de-b3ba-dd6466c6a8ca",
   "metadata": {},
   "source": [
    "- **Finallly block** in exception handling write codes that must run , no  matter waht happens , weather\n",
    "- The code inside the try block runs successfully \n",
    "- An exception is raised and handled \n",
    "- An exception is raised and not handled "
   ]
  },
  {
   "cell_type": "code",
   "execution_count": 2,
   "id": "e34e9f81-68ee-4d02-bd4d-3725209efc02",
   "metadata": {
    "tags": []
   },
   "outputs": [
    {
     "name": "stdout",
     "output_type": "stream",
     "text": [
      "File not found.\n",
      "Closing file (if it was opened).\n"
     ]
    }
   ],
   "source": [
    "try:\n",
    "    f = open(\"file.txt\", \"r\")\n",
    "    data = f.read()\n",
    "except FileNotFoundError:\n",
    "    print(\"File not found.\")\n",
    "    \n",
    "    ''' This line of code is always going to be executed  no matter what happens  to above written code , i.e weather thetry block runs or exception is handled '''\n",
    "    \n",
    "finally:                                         \n",
    "    print(\"Closing file (if it was opened).\")\n"
   ]
  },
  {
   "cell_type": "code",
   "execution_count": null,
   "id": "98b31423-c490-496c-8b0a-06a4a50d1e76",
   "metadata": {},
   "outputs": [],
   "source": []
  },
  {
   "cell_type": "markdown",
   "id": "c87a4ccb-a73b-4c96-b13e-81f0ac0e79e0",
   "metadata": {},
   "source": [
    "#### Q. 4 What is logging in Python?"
   ]
  },
  {
   "cell_type": "markdown",
   "id": "b72e2d4d-fd9c-4c14-a856-98585805476b",
   "metadata": {},
   "source": [
    "- Logging is like keeping a diary or notebook of everything your program is doing — step by step. Instead of just running silently or printing everything to the screen, the program writes important events or problems into a log (like a record book). This helps you see what happened later, especially when something goes wrong."
   ]
  },
  {
   "cell_type": "markdown",
   "id": "d7f85c36-c211-498c-94bd-ec23d19dea84",
   "metadata": {
    "tags": []
   },
   "source": [
    "#### Q. 5  What is the significance of the __del__ method in Python?"
   ]
  },
  {
   "cell_type": "markdown",
   "id": "5a7f1e4c-1ded-4aba-8511-36a0a4bbf568",
   "metadata": {},
   "source": [
    "-  --del--() is a special method in Python, also called a destructor. It is automatically called when an object is about to be destroyed, meaning\n",
    "- When it goes out of scope, or\n",
    "- When you use del to explicitly delete the object.\n",
    "\n"
   ]
  },
  {
   "cell_type": "markdown",
   "id": "c3d0ada0-8b07-4b59-ae3c-bc0d301c510c",
   "metadata": {},
   "source": [
    "#### Q. 6 What is the difference between import and from ... import in Python?"
   ]
  },
  {
   "cell_type": "markdown",
   "id": "b2fedf12-079d-49b2-acda-8c27021ec50a",
   "metadata": {},
   "source": [
    "- #### **Import**(e.g Import pandas)\n",
    "- This is the standard way to import the whole module (library).\n",
    "- Ex -  Import pandas , here you're importing the whole pandas library.\n",
    "- You access anything from it using: pd.something\n",
    "- Example: pd.DataFrame(), pd.read_csv() etc."
   ]
  },
  {
   "cell_type": "markdown",
   "id": "fc09442e-5b77-45d7-9fb4-900ae0964d7e",
   "metadata": {},
   "source": [
    "- #### **from** ......import (e.g from math import sqrt)\n",
    "- This means: import only a specific function, class, or variable from a module.\n",
    "- You only need a small part of the module\n",
    "- You want to save typing or improve readability\n",
    "- You want to avoid polluting the namespace with the full module\n",
    "\n"
   ]
  },
  {
   "cell_type": "markdown",
   "id": "5af94fd5-bd30-46ee-b154-7bffbe10d5b6",
   "metadata": {},
   "source": [
    "#### Q.7  How can you handle multiple exceptions in Python"
   ]
  },
  {
   "cell_type": "code",
   "execution_count": 5,
   "id": "185f46c3-ebec-442e-b6e1-4c10196b5383",
   "metadata": {
    "tags": []
   },
   "outputs": [
    {
     "name": "stdin",
     "output_type": "stream",
     "text": [
      "Enter a num 33\n",
      "Enter an another number 0\n"
     ]
    },
    {
     "name": "stdout",
     "output_type": "stream",
     "text": [
      "Invalid input , please check the number you enterd\n"
     ]
    }
   ],
   "source": [
    "try:\n",
    "    num1 = int(input(\"Enter a num\"))\n",
    "    num2 = int(input(\"Enter an another number\"))\n",
    "    calculation = num1 / num2\n",
    "    print(calculation)\n",
    "    \n",
    "except( ValueError, ZeroDivisionError):\n",
    "    print(\"Invalid input , please check the number you enterd\")\n",
    "    \n"
   ]
  },
  {
   "cell_type": "markdown",
   "id": "81da2167-4e84-4f29-9eef-b53159cd4630",
   "metadata": {},
   "source": [
    "#### Q.8  What is the purpose of the with statement when handling files in Python?"
   ]
  },
  {
   "cell_type": "markdown",
   "id": "51a5d2d0-0820-4756-841a-73e901da11f4",
   "metadata": {},
   "source": [
    "- with statment ensures that the file is closed properly after the block of code is executed\n",
    "- important>> free up system resources and avoid issues like data corruption or file lock"
   ]
  },
  {
   "cell_type": "markdown",
   "id": "ecf04d17-7d83-4e1d-8883-b95f33796218",
   "metadata": {},
   "source": [
    "#### Q. 9 What is the difference between multithreading and multiprocessing?"
   ]
  },
  {
   "cell_type": "markdown",
   "id": "f576b31d-b005-4022-a942-d64023b6b250",
   "metadata": {},
   "source": [
    "- **Multithreading**\n",
    "- Running multiple threads (smaller units of a process) within a single process.\n",
    "- Ideal for I/O-bound tasks (like reading files, web requests, or waiting for user input).\n",
    "- Threads share the same memory space.\n",
    "- **Multiprocessing**\n",
    "- Running multiple processes, each with its own Python interpreter and memory space.\n",
    "- Ideal for CPU-bound tasks (like heavy calculations, data processing, etc.).\n",
    "- Each process can run independently and in parallel on multiple CPU cores.\n",
    "- Processes are heavier and take more memory.\n",
    "\n"
   ]
  },
  {
   "cell_type": "markdown",
   "id": "67ebb20b-bc8f-4afc-a56f-e7790a24fc12",
   "metadata": {},
   "source": [
    "#### Q.10 What are the advantages of using logging in a program?"
   ]
  },
  {
   "cell_type": "markdown",
   "id": "fd4e41f0-3c98-4895-878b-332dbedc958b",
   "metadata": {},
   "source": [
    "- Helps in debugging by recording errors and warnings during runtime.\n",
    "- Records important runtime information like variable values, API calls, and system status.\n",
    "- Shows the flow of the program, making it easier to trace the sequence of events.\n",
    "- Supports different log levels like DEBUG, INFO, WARNING, ERROR, CRITICAL.\n",
    "- Allows logging to files or other outputs, not just the console — useful for analysis and tracking.\n",
    "- More flexible and maintainable than print() statements.\n",
    "- Essential for production code — improves reliability and post-error diagnostics.\n",
    "\n"
   ]
  },
  {
   "cell_type": "markdown",
   "id": "f1916b4c-ba66-4ad4-bfbf-58eafbc95bae",
   "metadata": {},
   "source": [
    "#### Q. 11  What is memory management in Python?"
   ]
  },
  {
   "cell_type": "markdown",
   "id": "203e78c1-7d65-4712-a2f8-df2af34e96dd",
   "metadata": {},
   "source": [
    "- **Memory management** in Python refers to how Python handles the allocation, usage, and release of memory during the execution of a program\n",
    "- Python manages memory automatically using reference counting.\n",
    "- When an object’s reference count drops to zero, memory is freed.\n",
    "- The gc module allows manual control of garbage collection.\n",
    "- You can call gc.collect() to force cleanup of circular references.\n",
    "- Use del to manually delete references and reduce memory usage.\n",
    "- The sys.getrefcount() function checks an object’s reference count.\n",
    "- tracemalloc helps profile memory usage and track leaks.\n",
    "\n"
   ]
  },
  {
   "cell_type": "markdown",
   "id": "e0328a17-5f02-4c6b-b85e-63d1806a3aaf",
   "metadata": {},
   "source": [
    "#### Q. 12 What are the basic steps involved in exception handling in Python?"
   ]
  },
  {
   "cell_type": "markdown",
   "id": "8984b41e-8e23-470a-997e-577e921fdfee",
   "metadata": {},
   "source": [
    "- Write the risky code inside a try block\n",
    "- Catch exceptions with one or more except blocks\n",
    "- Specify the type of exceptions you want to handle and write how to respond.\n",
    "- Use else block(optional)\n",
    "— This runs if no exceptions occur in the try block.\n",
    "- Use finally block(optional)\n",
    "— This always runs regardless of errors, often used to clean up resources.\n",
    "\n"
   ]
  },
  {
   "cell_type": "markdown",
   "id": "349cd71c-f6d6-46c4-91fc-a32604176992",
   "metadata": {},
   "source": [
    "#### Q.13 Why is memory management important in Python?"
   ]
  },
  {
   "cell_type": "markdown",
   "id": "3b6e2c0b-86da-404b-b5f7-6e6715dfd504",
   "metadata": {},
   "source": [
    "- **Efficient use of resources**: Proper memory management ensures that your program uses system memory wisely without wasting space or causing slowdowns.\n",
    "- **Prevents memory leaks:** It avoids situations where memory that’s no longer needed isn’t freed, which can cause your program to consume more and more memory over time.\n",
    "- **Improves performance:** Good memory management leads to faster program execution and better responsiveness.\n",
    "- **Handles dynamic data:** Python programs often create and destroy many objects at runtime, so automatic memory management (like garbage collection) helps manage these without programmer intervention.\n",
    "- **Prevents crashes:** Running out of memory can cause programs to crash or behave unpredictably; managing memory avoids these issues.\n",
    "- **Supports scalability:** Efficient memory use allows your programs to scale up and handle larger datasets or more users smoothly."
   ]
  },
  {
   "cell_type": "markdown",
   "id": "dad7a6b5-e07d-4b8c-ad2c-db943c70a437",
   "metadata": {},
   "source": [
    "#### Q.14 What is the role of try and except in exception handling?"
   ]
  },
  {
   "cell_type": "markdown",
   "id": "1fe0c772-ed0a-4da5-b499-d25fbf15b76a",
   "metadata": {},
   "source": [
    "- The try block contains the code you want to execute — Python “tries” to run it.\n",
    "- If the code in the try block runs successfully without errors, the program continues normally.\n",
    "- If an exception (error) occurs inside the try block, Python immediately stops executing that block.-\n",
    "- Then, the except block is triggered, which “catches” and handles the exception so your program doesn’t crash.\n",
    "- Inside the except block, you can write code to respond to the error, such as displaying a message, logging it, or taking corrective action.\n",
    "- This way, you deal with errors gracefully and keep your program running smoothly.\n",
    "\n"
   ]
  },
  {
   "cell_type": "markdown",
   "id": "336ce300-f50e-4cf4-92d9-733cf31f81c7",
   "metadata": {},
   "source": [
    "#### Q.15  How does Python's garbage collection system work?"
   ]
  },
  {
   "cell_type": "markdown",
   "id": "ce8d1603-6754-4ab8-8e38-7d203f00bda0",
   "metadata": {},
   "source": [
    "- Python’s garbage collection system automatically reclaims memory by removing objects that are no longer needed\n",
    "- Python uses reference counting to track how many variables refer to an object.\n",
    "- When an object’s reference count drops to zero, it's immediately deleted.\n",
    "- For circular references, Python uses the gc module’s generational garbage collector.\n",
    "- Objects are grouped into generations (0, 1, 2) based on how long they've existed.\n",
    "- Older generations are collected less frequently to save time.\n",
    "- You can use gc.collect() to manually trigger garbage collection.\n",
    "- This system ensures memory is efficiently reclaimed without manual intervention.\n",
    "\n"
   ]
  },
  {
   "cell_type": "markdown",
   "id": "856e1ca6-8411-4900-9a84-03f180f7854a",
   "metadata": {},
   "source": [
    "#### Q. 16 What is the purpose of the else block in exception handling?"
   ]
  },
  {
   "cell_type": "markdown",
   "id": "d2d745d5-aafd-4a87-adf9-0c088f372bba",
   "metadata": {},
   "source": [
    "-  **else block** runs if no exceptions occur in the try block."
   ]
  },
  {
   "cell_type": "markdown",
   "id": "1d7ba427-304e-418e-8d37-8de861b7d379",
   "metadata": {},
   "source": [
    "#### Q.17 What are the common logging levels in Python?\n"
   ]
  },
  {
   "cell_type": "markdown",
   "id": "1df8b189-5942-48ad-ba75-8b4684d5a0d0",
   "metadata": {
    "tags": []
   },
   "source": [
    "##### Order of Logging Levels (from least to most severe):\n",
    "- **DEBUG:** Lowest level — detailed internal info for debugging\n",
    "- **INFO:** General program events or status updates\n",
    "- **WARNING:** Something unexpected, but not a failure yet\n",
    "- **ERROR:** A serious issue — part of the program failed\n",
    "- **CRITICAL:** Highest level — entire system may be at risk\n",
    "\n"
   ]
  },
  {
   "cell_type": "raw",
   "id": "a1756ef9-f31f-465d-bcc0-65a7012fe7db",
   "metadata": {
    "tags": []
   },
   "source": [
    "DEBUG < INFO < WARNING < ERROR < CRITICAL  (Order of Logging Levels (from least to most severe)\n"
   ]
  },
  {
   "cell_type": "markdown",
   "id": "265a9edd-228e-4a85-9040-0e9195b9116c",
   "metadata": {},
   "source": [
    "#### Q.18 What is the difference between os.fork() and multiprocessing in Python?"
   ]
  },
  {
   "cell_type": "markdown",
   "id": "5875f401-164c-46f6-8986-4ef759b03c52",
   "metadata": {},
   "source": [
    "- **os.fork()**\n",
    "- Directly duplicates the current process using the OS's fork() system call.\n",
    "- Only available on Unix-like systems (Linux, macOS).\n",
    "- Requires manual handling of communication, termination, etc.\n",
    "- Good for simple process duplication, but not very safe or portable.\n",
    "- **multiprocessing**\n",
    "- Provides an easy, object-oriented interface for spawning and managing processes.\n",
    "- Works on both Unix and Windows.\n",
    "- Offers features like queues, pipes, process pools, and shared memory.\n",
    "- PSafer, more readable, and preferred for most multi-process applications-"
   ]
  },
  {
   "cell_type": "markdown",
   "id": "24fe88d2-c048-44f3-93f0-1658a912c25d",
   "metadata": {},
   "source": [
    "#### Q.19 What is the importance of closing a file in Python?"
   ]
  },
  {
   "cell_type": "markdown",
   "id": "28e32059-629f-4ce9-a53d-837beb40311b",
   "metadata": {},
   "source": [
    "- To save data properly: Ensures all changes (writes) are written from memory to the file.\n",
    "- To free system resources: Releases memory and file handles used by the system.\n",
    "- To prevent file corruption: Avoids issues from crashes or interrupted file access.\n",
    "- To avoid file locking: Lets other programs or users access the file safely.\n",
    "- To follow good coding practice: Keeps your code clean, reliable, and bug-free.\n",
    "\n"
   ]
  },
  {
   "cell_type": "markdown",
   "id": "a0c81361-4e58-4afe-aabb-406359515d89",
   "metadata": {},
   "source": [
    "#### Q. 20 What is the difference between file.read() and file.readline() in python?"
   ]
  },
  {
   "cell_type": "markdown",
   "id": "efb3a689-acb9-49c7-8223-e779d931855d",
   "metadata": {},
   "source": [
    "- **file.read()**\n",
    "- Reads the entire file content at once as a single string.\n",
    "- Includes all characters, including \\n (newlines).\n",
    "- You usually use this when the file is small or you want to process everything at once"
   ]
  },
  {
   "cell_type": "markdown",
   "id": "b6f61a38-0702-42e7-bf22-a078688d7c42",
   "metadata": {},
   "source": [
    "- **file.readline()**\n",
    "- Reads only one line from the file at a time.\n",
    "- Returns that line as a string (including the \\n if present).\n",
    "- Good for line-by-line reading, especially in large files.\n",
    "\n"
   ]
  },
  {
   "cell_type": "markdown",
   "id": "58978ef9-8a45-4f1f-baea-b16d7484c76e",
   "metadata": {
    "tags": []
   },
   "source": [
    "#### Q.21 What is the logging module in Python used for?"
   ]
  },
  {
   "cell_type": "markdown",
   "id": "349b7d2e-a71d-4577-8fc5-926b22ddd039",
   "metadata": {},
   "source": [
    "- Helps in debugging by recording errors and warnings during runtime.\n",
    "- Records important runtime information like variable values, API calls, and system status.\n",
    "- Shows the flow of the program, making it easier to trace the sequence of events.\n",
    "- Supports different log levels like DEBUG, INFO, WARNING, ERROR, CRITICAL.\n",
    "- Allows logging to files or other outputs, not just the console — useful for analysis and tracking.\n",
    "- More flexible and maintainable than print() statements.\n",
    "- Essential for production code — improves reliability and post-error diagnostics.\n",
    "\n"
   ]
  },
  {
   "cell_type": "markdown",
   "id": "2dd56ac2-4c38-4615-b10e-ecf35f5de9ac",
   "metadata": {},
   "source": [
    "#### Q.22 What is the os module in Python used for in file handling?"
   ]
  },
  {
   "cell_type": "markdown",
   "id": "dc31c5fd-553d-4640-98bb-b9856d622c74",
   "metadata": {},
   "source": [
    "- The os module is very useful for file and directory management tasks that aren't covered by basic file reading/writing.\n",
    "- It helps your program interact with the file system in a more powerful and flexible way.\n",
    "\n"
   ]
  },
  {
   "cell_type": "raw",
   "id": "ce2a293e-f3db-4cdb-8102-6a13edea508f",
   "metadata": {},
   "source": [
    "Example uses of os in file handling"
   ]
  },
  {
   "cell_type": "code",
   "execution_count": null,
   "id": "8429494b-0982-4fb0-8226-077ffe3f5900",
   "metadata": {},
   "outputs": [],
   "source": [
    "import os\n",
    "\n",
    "# Check if a file exists\n",
    "if os.path.exists(\"example.txt\"):\n",
    "    print(\"File exists\")\n",
    "\n",
    "# Get the size of a file\n",
    "size = os.path.getsize(\"example.txt\")\n",
    "print(f\"File size: {size} bytes\")\n",
    "\n",
    "# Rename a file\n",
    "os.rename(\"example.txt\", \"new_example.txt\")\n",
    "\n",
    "# Delete a file\n",
    "os.remove(\"new_example.txt\")\n",
    "\n",
    "# Create a new directory\n",
    "os.mkdir(\"new_folder\")\n",
    "\n",
    "# Change current working directory\n",
    "os.chdir(\"new_folder\")\n",
    "print(\"Current Directory:\", os.getcwd())\n"
   ]
  },
  {
   "cell_type": "markdown",
   "id": "94a71f46-3f25-4887-ae5f-62821a9e3a24",
   "metadata": {},
   "source": [
    "#### Q.23 What are the challenges associated with memory management in Python?"
   ]
  },
  {
   "cell_type": "code",
   "execution_count": null,
   "id": "763b7a5e-7785-45fb-b3ae-5c5328691ac4",
   "metadata": {},
   "outputs": [],
   "source": []
  },
  {
   "cell_type": "markdown",
   "id": "fe20c800-2099-4894-9f09-998ec9865785",
   "metadata": {
    "tags": []
   },
   "source": [
    "#### Q.24 How do you raise an exception manually in Python?\n"
   ]
  },
  {
   "cell_type": "code",
   "execution_count": 6,
   "id": "e67d64ea-cfb7-4a10-84f7-21215b795fc0",
   "metadata": {
    "tags": []
   },
   "outputs": [
    {
     "name": "stdin",
     "output_type": "stream",
     "text": [
      "Enter your age:  -2\n"
     ]
    },
    {
     "name": "stdout",
     "output_type": "stream",
     "text": [
      "Error: The age must be a positive number\n"
     ]
    }
   ],
   "source": [
    "try:\n",
    "    Age = int(input(\"Enter your age: \"))\n",
    "    if Age < 0:\n",
    "        raise ValueError(\"The age must be a positive number\")\n",
    "    print(f\"Your age is {Age}\")\n",
    "except ValueError as e:\n",
    "    print(f\"Error: {e}\")\n"
   ]
  },
  {
   "cell_type": "code",
   "execution_count": null,
   "id": "65debe83-6bfb-4585-9ad5-241e5290f840",
   "metadata": {
    "tags": []
   },
   "outputs": [],
   "source": []
  },
  {
   "cell_type": "markdown",
   "id": "7b6f99d9-d240-4333-90fa-640a9ec99afe",
   "metadata": {},
   "source": [
    "#### Q.25 Why is it important to use multithreading in certain applications?"
   ]
  },
  {
   "cell_type": "markdown",
   "id": "b88b8be9-32d7-4d4d-bd4d-50158598b611",
   "metadata": {},
   "source": [
    "- **Multithreading** improves program responsiveness by running tasks simultaneously.\n",
    "- Ideal for I/O-bound operations like file or network access, allowing work during waits.\n",
    "- Threads share memory, making them lighter and faster than separate processes.\n",
    "- Enhances resource utilization and provides smoother user experiences.\n",
    "- Limited for CPU-heavy tasks due to Python’s Global Interpreter Lock (GIL).\n",
    "- Essential for efficiently handling multiple tasks at once in many applications."
   ]
  },
  {
   "cell_type": "code",
   "execution_count": null,
   "id": "6bffacbd-699d-47db-aff5-571ae01b5d0a",
   "metadata": {},
   "outputs": [],
   "source": []
  },
  {
   "cell_type": "code",
   "execution_count": null,
   "id": "acb21e4b-f44c-410b-a667-43653498a888",
   "metadata": {},
   "outputs": [],
   "source": []
  },
  {
   "cell_type": "code",
   "execution_count": null,
   "id": "3e08e158-1655-41f4-9746-9c232e6c2285",
   "metadata": {},
   "outputs": [],
   "source": []
  },
  {
   "cell_type": "markdown",
   "id": "229c376e-767b-4f52-8b53-c40f177c1eb0",
   "metadata": {},
   "source": [
    "# Practicals"
   ]
  },
  {
   "cell_type": "code",
   "execution_count": null,
   "id": "ef4674d2-79f4-4c0d-87fd-1202f886dd9b",
   "metadata": {
    "tags": []
   },
   "outputs": [],
   "source": []
  },
  {
   "cell_type": "markdown",
   "id": "2915fb5b-17dc-4237-b50a-8ffc7e7be605",
   "metadata": {},
   "source": [
    "#### Q.1  How can you open a file for writing in Python and write a string to it?"
   ]
  },
  {
   "cell_type": "code",
   "execution_count": null,
   "id": "2c29a2b8-213f-4b54-a214-faa29a34ebe0",
   "metadata": {
    "tags": []
   },
   "outputs": [],
   "source": [
    "with open(\"Test_file.txt\", \"w\") as file:\n",
    "    file.write(\"This is my first time writing a string to file\")"
   ]
  },
  {
   "cell_type": "code",
   "execution_count": null,
   "id": "5510d699-3c77-4170-8230-0cf3a126ac06",
   "metadata": {
    "tags": []
   },
   "outputs": [],
   "source": []
  },
  {
   "cell_type": "markdown",
   "id": "aea042d8-3e4c-400f-a8eb-0a1f69af7708",
   "metadata": {},
   "source": [
    "\n",
    "#### Q.2 Write a Python program to read the contents of a file and print each line"
   ]
  },
  {
   "cell_type": "code",
   "execution_count": 120,
   "id": "0a3bec0f-e4e6-4481-a062-81799aeb2a0c",
   "metadata": {
    "tags": []
   },
   "outputs": [
    {
     "name": "stdout",
     "output_type": "stream",
     "text": [
      "\n",
      "\n",
      "My name is Fahim and \n",
      "\n",
      "I am preparing for an interview  \n",
      "\n",
      "I want to be a data anlyst\n",
      "\n",
      "I have enrolled. \n",
      "\n",
      "I love DA course \n",
      "\n",
      "I enjoy itI have enrolled. \n",
      "\n",
      "I love DA course \n",
      "\n",
      "I enjoy it This is an append line just to demonstrate to add data to existing file  This is an append line just to demonstrate to add data to existing file  \n",
      "\n",
      "This is an append line just to demonstrate to add data to existing file I have enrolled. \n",
      "\n",
      "I love DA course \n",
      "\n",
      "I enjoy itI have enrolled. \n",
      "\n",
      "I love DA course \n",
      "\n",
      "I enjoy itI have enrolled. \n",
      "\n",
      "I love DA course \n",
      "\n",
      "I enjoy itI have enrolled. \n",
      "\n",
      "I love DA course \n",
      "\n",
      "I enjoy it\n"
     ]
    }
   ],
   "source": [
    "with open(\"Intro.txt\", \"a\") as file:\n",
    "    file.write(\"I have enrolled. \\n\" \"I love DA course \\n\" \"I enjoy it\")\n",
    "    \n",
    "with open(\"Intro.txt\", \"r\") as file:\n",
    "    for line in file:\n",
    "        print(line)\n"
   ]
  },
  {
   "cell_type": "markdown",
   "id": "c86d9707-6933-4831-b2e2-766a17b91225",
   "metadata": {},
   "source": [
    "#### Q.3 How would you handle a case where the file doesn't exist while trying to open it for reading"
   ]
  },
  {
   "cell_type": "code",
   "execution_count": 121,
   "id": "85e66c00-929e-4020-b0c2-cd2a0b0d622e",
   "metadata": {
    "tags": []
   },
   "outputs": [
    {
     "name": "stdout",
     "output_type": "stream",
     "text": [
      "Error is ----  [Errno 2] No such file or directory: 'My_File.txt' found\n"
     ]
    }
   ],
   "source": [
    "try:\n",
    "    \n",
    "    with open(\"My_File.txt\" , \"r\") as file:\n",
    "        content = file.read()\n",
    "    print(content)\n",
    "        \n",
    "except FileNotFoundError as e:\n",
    "    print(f\"Error is ----  {e} found\")"
   ]
  },
  {
   "cell_type": "markdown",
   "id": "d7d0b995-7c99-4be8-9c3b-b8b135f861f3",
   "metadata": {},
   "source": [
    "#### Q.4 Write a Python script that reads from one file and writes its content to another file"
   ]
  },
  {
   "cell_type": "code",
   "execution_count": 158,
   "id": "d139ffb2-3a6f-47c2-a5c8-4d6879ebfeb0",
   "metadata": {},
   "outputs": [],
   "source": [
    "with open (\"Intro.txt\", 'r') as file:\n",
    "    content = file.read()\n",
    "    \n",
    "with open (\"Intro_2.txt\", 'w') as f :\n",
    "    for i in content:\n",
    "        f.write(i)"
   ]
  },
  {
   "cell_type": "markdown",
   "id": "c6e75dc1-70b1-4f88-9c33-fd847d8716ef",
   "metadata": {},
   "source": [
    "\n",
    "#### Q.5 How would you catch and handle division by zero error in Python"
   ]
  },
  {
   "cell_type": "code",
   "execution_count": 7,
   "id": "4a3de857-67f6-4af5-b620-cf9a0cd807b3",
   "metadata": {
    "tags": []
   },
   "outputs": [
    {
     "name": "stdin",
     "output_type": "stream",
     "text": [
      "Enter a number 22\n",
      "Enter another number 0\n"
     ]
    },
    {
     "name": "stdout",
     "output_type": "stream",
     "text": [
      "The number cannot be divisble by zero , Error is ---division by zero\n"
     ]
    }
   ],
   "source": [
    "try:\n",
    "    \n",
    "    num1 = int(input(\"Enter a number\"))\n",
    "    num2 = int(input(\"Enter another number\"))\n",
    "    calculation = num1 / num2\n",
    "    print(f\"The result of division of two numbers is {calculation}\")\n",
    "\n",
    "except ZeroDivisionError as e:\n",
    "    print(f\"The number cannot be divisble by zero , Error is ---{e}\")"
   ]
  },
  {
   "cell_type": "markdown",
   "id": "f6448b27-fd13-4c6b-9090-84e31e176650",
   "metadata": {},
   "source": [
    "#### Q.6 Write a Python program that logs an error message to a log file when a division by zero exception occurs?"
   ]
  },
  {
   "cell_type": "code",
   "execution_count": 123,
   "id": "96c51319-3cd9-4242-8090-4722b14a422f",
   "metadata": {},
   "outputs": [
    {
     "name": "stdin",
     "output_type": "stream",
     "text": [
      "Enter a number 22\n",
      "Enter another number 0\n"
     ]
    }
   ],
   "source": [
    "import logging\n",
    "logging.basicConfig(filename = \"error.log\", level= logging.ERROR)\n",
    "\n",
    "\n",
    "\n",
    "\n",
    "\n",
    "try:\n",
    "    \n",
    "    num1 = int(input(\"Enter a number\"))\n",
    "    num2 = int(input(\"Enter another number\"))\n",
    "    calculation = num1 / num2\n",
    "    print(f\"The result of division of two numbers is {calculation}\")\n",
    "\n",
    "except ZeroDivisionError as e:\n",
    "    logging.error(f\"Error----{e}\") \n",
    "    \n"
   ]
  },
  {
   "cell_type": "code",
   "execution_count": 124,
   "id": "34316ed7-8414-431f-a292-0b705ef0b360",
   "metadata": {},
   "outputs": [],
   "source": [
    "with open(\"error.log\", 'r') as file:\n",
    "    a = file.read()"
   ]
  },
  {
   "cell_type": "code",
   "execution_count": 125,
   "id": "dc482170-82b4-4697-8f0f-f857c3b75340",
   "metadata": {},
   "outputs": [
    {
     "name": "stdout",
     "output_type": "stream",
     "text": [
      "ERROR:root:Error----division by zero, cannot be divisible by zero\n",
      "ERROR:Comm:No such comm target registered: jupyter.widget.control\n",
      "ERROR:root:Error----division by zero\n",
      "ERROR:root:Error found, please recheck the code\n",
      "ERROR:Comm:No such comm target registered: jupyter.widget.control\n",
      "ERROR:Comm:No such comm target registered: jupyter.widget.control\n",
      "ERROR:root:Error: Division by zero is not allowed. Details: division by zero\n",
      "ERROR:root:Error: Division by zero is not allowed. Details: division by zero\n",
      "\n"
     ]
    }
   ],
   "source": [
    "print(a)"
   ]
  },
  {
   "cell_type": "code",
   "execution_count": null,
   "id": "fd5bb94c-fc4e-428e-93f3-7b52bd052a2b",
   "metadata": {},
   "outputs": [],
   "source": []
  },
  {
   "cell_type": "markdown",
   "id": "2e05702e-d5d9-4f08-b8aa-48ce3f6eff95",
   "metadata": {
    "tags": []
   },
   "source": [
    "#### Q.7 How do you log information at different levels (INFO, ERROR, WARNING) in Python using the logging module?"
   ]
  },
  {
   "cell_type": "code",
   "execution_count": 126,
   "id": "34ce479c-1994-4646-8a43-cfb196001897",
   "metadata": {
    "tags": []
   },
   "outputs": [],
   "source": [
    "import logging\n",
    "logging.basicConfig( filename = \"Info.log\", level= logging.INFO)\n",
    "\n",
    "logging.info(\"This is the basis information about 1st procsee\")\n",
    "logging.error(\"Error found, please recheck the code\")\n",
    "logging.warning(\"This is a warning regarding the error\")\n",
    "logging.shutdown()\n"
   ]
  },
  {
   "cell_type": "markdown",
   "id": "b70082b3-e32d-4fe7-84fa-76e926edb5e0",
   "metadata": {},
   "source": [
    "#### Q.8 Write a program to handle a file opening error using exception handling"
   ]
  },
  {
   "cell_type": "code",
   "execution_count": 127,
   "id": "3b3564d6-f237-4c90-bf34-2cf311880b45",
   "metadata": {
    "tags": []
   },
   "outputs": [
    {
     "name": "stdout",
     "output_type": "stream",
     "text": [
      "Error [Errno 2] No such file or directory: 'Intrro.txt'\n"
     ]
    }
   ],
   "source": [
    "try:\n",
    "    with open(\"Intrro.txt\", 'r') as file :\n",
    "        content = file.read()\n",
    "        print(content)\n",
    "    \n",
    "except FileNotFoundError as e:\n",
    "    print(\"Error\", e)\n",
    "    \n",
    "except PermissionError as p:\n",
    "    print(\"Error\", p)\n",
    "\n",
    "    "
   ]
  },
  {
   "cell_type": "code",
   "execution_count": null,
   "id": "a795ea64-961a-4401-8a3a-bd0f63c6a8ab",
   "metadata": {
    "tags": []
   },
   "outputs": [],
   "source": []
  },
  {
   "cell_type": "markdown",
   "id": "6287be27-949d-40a7-96a1-cfdbf6b0c3c9",
   "metadata": {
    "tags": []
   },
   "source": [
    "#### Q.9  How can you read a file line by line and store its content in a list in Python?\n"
   ]
  },
  {
   "cell_type": "code",
   "execution_count": 45,
   "id": "3e0e19f4-8018-4a59-8d5b-853cd12ff580",
   "metadata": {
    "tags": []
   },
   "outputs": [
    {
     "name": "stdout",
     "output_type": "stream",
     "text": [
      "['\\n', 'My name is Fahim and \\n', 'I am preparing for an interview  \\n', 'I want to be a data anlyst\\n', 'I have enrolled. \\n', 'I love DA course \\n', 'I enjoy itI have enrolled. \\n', 'I love DA course \\n', 'I enjoy it']\n"
     ]
    }
   ],
   "source": [
    "with open(\"Intro.txt\", 'r') as file :\n",
    "    List = []\n",
    "    for line in file :\n",
    "        List.append(line)\n",
    "    print(List)\n",
    "        "
   ]
  },
  {
   "cell_type": "markdown",
   "id": "853ebba6-a7fa-4430-b6a3-3d7def4ebb5e",
   "metadata": {
    "tags": []
   },
   "source": [
    "#### Q.10 How can you append data to an existing file in Python?"
   ]
  },
  {
   "cell_type": "code",
   "execution_count": 59,
   "id": "35ea1ba6-34f2-4332-93ee-3ecc72bf624a",
   "metadata": {
    "tags": []
   },
   "outputs": [
    {
     "name": "stdout",
     "output_type": "stream",
     "text": [
      "\n",
      "My name is Fahim and \n",
      "I am preparing for an interview  \n",
      "I want to be a data anlyst\n",
      "I have enrolled. \n",
      "I love DA course \n",
      "I enjoy itI have enrolled. \n",
      "I love DA course \n",
      "I enjoy it This is an append line just to demonstrate to add data to existing file  This is an append line just to demonstrate to add data to existing file  \n",
      "This is an append line just to demonstrate to add data to existing file \n"
     ]
    }
   ],
   "source": [
    "with open (\"Intro.txt\", 'a') as file :\n",
    "    file.write(\" \\nThis is an append line just to demonstrate to add data to existing file \")\n",
    "\n",
    "    \n",
    "    \n",
    "with open(\"Intro.txt\", \"r\") as file :\n",
    "    a = file.read()\n",
    "    print(a)"
   ]
  },
  {
   "cell_type": "code",
   "execution_count": null,
   "id": "9f9a0a58-3899-4587-b134-b956ca49dc9f",
   "metadata": {
    "tags": []
   },
   "outputs": [],
   "source": []
  },
  {
   "cell_type": "markdown",
   "id": "6954c6af-02e4-4478-9c4d-8524901bf932",
   "metadata": {},
   "source": [
    "#### Q. 11 Write a Python program that uses a try-except block to handle an error when attempting to access a dictionary key that doesn't exist"
   ]
  },
  {
   "cell_type": "code",
   "execution_count": 80,
   "id": "3a2578c7-53cd-436e-9871-8cd422395f3e",
   "metadata": {
    "tags": []
   },
   "outputs": [
    {
     "name": "stdout",
     "output_type": "stream",
     "text": [
      "{'Name': 'Fahim Ahmad', 'Age': 24, 'Adress': 'Mumbai'}\n",
      "Error ------ There is no such key 'Sex' that exists in a dic \n"
     ]
    }
   ],
   "source": [
    "data = { 'Name' : \"Fahim Ahmad\", 'Age' : 24, 'Adress' :\"Mumbai\"}\n",
    "\n",
    "import json\n",
    "\n",
    "with open (\"My_Intro.json\" , \"w\") as file: \n",
    "    json.dump(data, file)\n",
    "    \n",
    "    \n",
    "with open(\"My_Intro.json\", 'r') as file:\n",
    "    a = json.load(file)\n",
    "    print(a)\n",
    "    \n",
    "try: \n",
    "    a['Age']\n",
    "    print(a['Sex'])\n",
    "    \n",
    "except KeyError as e :\n",
    "    \n",
    "    print(f\"Error ------ There is no such key {e} that exists in a dic \")\n",
    "    \n",
    "    "
   ]
  },
  {
   "cell_type": "code",
   "execution_count": null,
   "id": "d0975ff1-ee0c-4976-8548-62714a83a336",
   "metadata": {},
   "outputs": [],
   "source": []
  },
  {
   "cell_type": "markdown",
   "id": "677640a8-a445-4327-843e-9d376b9eb406",
   "metadata": {},
   "source": [
    "#### Q. 12 Write a program that demonstrates using multiple except blocks to handle different types of exceptions"
   ]
  },
  {
   "cell_type": "code",
   "execution_count": 113,
   "id": "ff132eda-04e9-424d-9a44-f77393ef6c31",
   "metadata": {
    "tags": []
   },
   "outputs": [
    {
     "name": "stdout",
     "output_type": "stream",
     "text": [
      "{\"Name\": \"Fahim Ahmad\", \"Age\": 24, \"Adress\": \"Mumbai\"}\n"
     ]
    }
   ],
   "source": [
    "try:\n",
    "    with open(\"My_Intro.json\", 'r') as file:\n",
    "        content = file.read()\n",
    "        print(content)\n",
    "\n",
    "except FileNotFoundError as e:\n",
    "    print(f\"File does not exist: {e}\")\n",
    "\n",
    "except PermissionError as p:\n",
    "    print(f\"Permission denied: {p}\")\n"
   ]
  },
  {
   "cell_type": "code",
   "execution_count": null,
   "id": "7cec9c80-d4e0-4c5c-bf91-9449db142662",
   "metadata": {},
   "outputs": [],
   "source": []
  },
  {
   "cell_type": "code",
   "execution_count": null,
   "id": "417b83b4-e3f5-4dc2-a82c-9318ea843776",
   "metadata": {},
   "outputs": [],
   "source": []
  },
  {
   "cell_type": "markdown",
   "id": "3ec576bc-5f92-4f02-9f35-f664fe97905c",
   "metadata": {},
   "source": [
    "#### Q.13 How would you check if a file exists before attempting to read it in Python\u001f"
   ]
  },
  {
   "cell_type": "code",
   "execution_count": 114,
   "id": "31ace68e-1ed5-4177-91e4-ef66397c643d",
   "metadata": {
    "tags": []
   },
   "outputs": [
    {
     "name": "stdout",
     "output_type": "stream",
     "text": [
      "File Exists\n"
     ]
    }
   ],
   "source": [
    "import os\n",
    "\n",
    "if os.path.exists(\"My_Intro.json\"):\n",
    "    print(\"File Exists\")\n",
    "else:\n",
    "    print(\"Does not Exists\")\n",
    "        "
   ]
  },
  {
   "cell_type": "markdown",
   "id": "bec68596-344f-4e3f-a1fa-ef7efb0b50b2",
   "metadata": {},
   "source": [
    "#### Q.14  Write a program that uses the logging module to log both informational and error messages."
   ]
  },
  {
   "cell_type": "code",
   "execution_count": 6,
   "id": "3c04cbf6-7d06-4cc2-a146-d40d6cc4851f",
   "metadata": {
    "tags": []
   },
   "outputs": [
    {
     "name": "stdin",
     "output_type": "stream",
     "text": [
      "Enter a number:  22\n",
      "Enter another number:  0\n"
     ]
    }
   ],
   "source": [
    "import logging\n",
    "import os\n",
    "\n",
    "\n",
    "logging.basicConfig(filename=\"Math_Operation.log\", level=logging.DEBUG)\n",
    "\n",
    "\n",
    "logging.debug(\"Logger initialized - test message\")\n",
    "\n",
    "\n",
    "try:\n",
    "    num1 = int(input(\"Enter a number: \"))\n",
    "    num2 = int(input(\"Enter another number: \"))\n",
    "    calc = num1 / num2\n",
    "    logging.info(f\"This is the basic division result: {calc} from dividing {num1} by {num2}\")\n",
    "\n",
    "except ZeroDivisionError as e:\n",
    "    logging.error(f\"Error: Division by zero is not allowed. Details: {e}\")\n"
   ]
  },
  {
   "cell_type": "code",
   "execution_count": null,
   "id": "310ffa18-b8bc-4e50-bcc1-3936dcaad05e",
   "metadata": {},
   "outputs": [],
   "source": []
  },
  {
   "cell_type": "markdown",
   "id": "1ae84d7b-bfc1-43e6-a765-8d17ca8d673a",
   "metadata": {},
   "source": [
    "#### Q. 15 Write a Python program that prints the content of a file and handles the case when the file is empty"
   ]
  },
  {
   "cell_type": "code",
   "execution_count": 15,
   "id": "b8295acd-e1ce-4e2c-a4d8-ace7b5d89c81",
   "metadata": {
    "tags": []
   },
   "outputs": [
    {
     "name": "stdout",
     "output_type": "stream",
     "text": [
      "The file is empty\n"
     ]
    }
   ],
   "source": [
    "try:\n",
    "    \n",
    "    with open(\"My_Intro.json\", 'r') as file :\n",
    "        a = file.read()\n",
    "        \n",
    "        if not a:\n",
    "            print(\"The file is empty\")\n",
    "        else:\n",
    "            print(f\"The contentbof the file is {a}\")\n",
    "            \n",
    "except FileNotFoundError as e  :\n",
    "    print(f\"Error {e}\")\n",
    "\n",
    "        "
   ]
  },
  {
   "cell_type": "markdown",
   "id": "205ba110-be5d-41d9-b781-82cf599bed9d",
   "metadata": {
    "tags": []
   },
   "source": [
    "#### Q. 16 Demonstrate how to use memory profiling to check the memory usage of a small program"
   ]
  },
  {
   "cell_type": "code",
   "execution_count": null,
   "id": "2fb28234-9b7b-4109-9b8b-a3d35689e1bd",
   "metadata": {},
   "outputs": [],
   "source": []
  },
  {
   "cell_type": "markdown",
   "id": "b331e1a9-fdb9-49a6-b9b9-0722631edbc3",
   "metadata": {},
   "source": [
    "#### Q.17 Write a Python program to create and write a list of numbers to a file, one number per line."
   ]
  },
  {
   "cell_type": "code",
   "execution_count": 154,
   "id": "a728eb37-e483-47f7-828b-c6b6d3b5f160",
   "metadata": {
    "tags": []
   },
   "outputs": [],
   "source": [
    "a = [1,2,4,5,6,7,7]\n",
    "\n",
    "with open(\"List_of_number.txt\", 'w') as file :\n",
    "    for i in a:\n",
    "        file.write(str(i) + '\\n')"
   ]
  },
  {
   "cell_type": "code",
   "execution_count": null,
   "id": "60b9d84c-daaa-4b79-a234-59cbfb6d8f00",
   "metadata": {
    "tags": []
   },
   "outputs": [],
   "source": []
  },
  {
   "cell_type": "markdown",
   "id": "e244da86-699f-42fc-b304-144239821301",
   "metadata": {},
   "source": [
    "#### Q.18 How would you implement a basic logging setup that logs to a file with rotation after 1MB"
   ]
  },
  {
   "cell_type": "code",
   "execution_count": 159,
   "id": "5e8f2903-b987-4790-aaae-5c9b4e3c506b",
   "metadata": {
    "tags": []
   },
   "outputs": [],
   "source": [
    "import logging\n",
    "from logging.handlers import RotatingFileHandler\n",
    "\n",
    "\n",
    "logger = logging.getLogger('MyLogger')\n",
    "logger.setLevel(logging.DEBUG)\n",
    "\n",
    "\n",
    "\n",
    "handler = RotatingFileHandler('app.log', maxBytes=1_000_000, backupCount=3)\n",
    "formatter = logging.Formatter('%(asctime)s - %(levelname)s - %(message)s')\n",
    "handler.setFormatter(formatter)\n",
    "\n",
    "\n",
    "logger.addHandler(handler)\n",
    "\n",
    "\n",
    "logger.info(\"Logging setup with rotation after 1MB is ready.\")\n",
    "logger.error(\"This is a sample error message.\")\n"
   ]
  },
  {
   "cell_type": "markdown",
   "id": "04f2ebf1-80e1-4348-9714-4001aff72d48",
   "metadata": {},
   "source": [
    "#### Q. 19 Write a program that handles both IndexError and KeyError using a try-except block"
   ]
  },
  {
   "cell_type": "code",
   "execution_count": 72,
   "id": "4d73e2c8-d40c-4424-a30d-52adcba9c6a5",
   "metadata": {
    "tags": []
   },
   "outputs": [
    {
     "name": "stdout",
     "output_type": "stream",
     "text": [
      "{'name': 'Fahim Ahmad', 'age': 25, 'location': 'Mumbai', 'skills': ['Python', 'SQL', 'Excel', 'Power BI'], 'is_job_seeking': True, 'education': {'degree': 'B.Sc in Data Science', 'university': 'HSSC University', 'expected_graduation': 'May 2025'}, 'certifications': ['AI with ML - IIT Mumbai', 'All-in-One Excel - Udemy']}\n"
     ]
    }
   ],
   "source": [
    "import json\n",
    "with open(\"My_profile\", 'r') as file :\n",
    "    info = json.load(file)\n",
    "print(info)\n",
    "\n"
   ]
  },
  {
   "cell_type": "code",
   "execution_count": 77,
   "id": "47e64468-9d75-49f3-9a5f-15e3745c6f01",
   "metadata": {
    "tags": []
   },
   "outputs": [
    {
     "name": "stdout",
     "output_type": "stream",
     "text": [
      "Fahim Ahmad\n",
      "All-in-One Excel - Udemy\n"
     ]
    }
   ],
   "source": [
    "try :\n",
    "    import json\n",
    "    with open(\"My_profile\", 'r') as file :\n",
    "        info= json.load(file)\n",
    "        \n",
    "        ''' Here My_profile data is stored in a variable a , and we are trying to access the name in data'''\n",
    "        \n",
    "        print(info['name'])\n",
    "        \n",
    "        ''' In this we are accessing certification and inside certification , to get access to 1st element '''\n",
    "        \n",
    "        certificate = info['certifications']\n",
    "        print(certificate[1])\n",
    "             \n",
    "except KeyError as e :\n",
    "    print(f\"There is no such key {e} in give dic \")\n",
    "    \n",
    "except IndexError as e:\n",
    "    print(f\"The index {e} is out of range\")\n",
    "    \n",
    "        "
   ]
  },
  {
   "cell_type": "markdown",
   "id": "bce6535e-de9f-4279-8759-2924fbad3b71",
   "metadata": {},
   "source": [
    "#### Q. 20 How would you open a file and read its contents using a context manager in Python"
   ]
  },
  {
   "cell_type": "code",
   "execution_count": 146,
   "id": "d348c5d7-e00b-4e5a-ba78-5a6407d3fdd1",
   "metadata": {
    "tags": []
   },
   "outputs": [
    {
     "name": "stdout",
     "output_type": "stream",
     "text": [
      "\n",
      "My name is Fahim and \n",
      "I am preparing for an interview  \n",
      "I want to be a data anlyst\n",
      "I have enrolled. \n",
      "I love DA course \n",
      "I enjoy itI have enrolled. \n",
      "I love DA course \n",
      "I enjoy it This is an append line just to demonstrate to add data to existing file  This is an append line just to demonstrate to add data to existing file  \n",
      "This is an append line just to demonstrate to add data to existing file I have enrolled. \n",
      "I love DA course \n",
      "I enjoy itI have enrolled. \n",
      "I love DA course \n",
      "I enjoy itI have enrolled. \n",
      "I love DA course \n",
      "I enjoy itI have enrolled. \n",
      "I love DA course \n",
      "I enjoy it\n"
     ]
    }
   ],
   "source": [
    "with open('Intro.txt', 'r') as file :\n",
    "    a = file.read()\n",
    "    print(a)\n"
   ]
  },
  {
   "cell_type": "markdown",
   "id": "d6978c7a-ad7f-4405-802b-e0d88a7b6d69",
   "metadata": {},
   "source": [
    "#### Q.21 Write a Python program that reads a file and prints the number of occurrences of a specific word"
   ]
  },
  {
   "cell_type": "code",
   "execution_count": 108,
   "id": "71e0be6d-8541-4262-9700-54fb68d0cc17",
   "metadata": {
    "tags": []
   },
   "outputs": [
    {
     "name": "stdin",
     "output_type": "stream",
     "text": [
      "Enter the word to check:  love\n"
     ]
    },
    {
     "name": "stdout",
     "output_type": "stream",
     "text": [
      "The word 'love' appears 2 times.\n"
     ]
    }
   ],
   "source": [
    "with open(\"Intro.txt\", 'r') as file:\n",
    "    text = file.read()\n",
    "\n",
    "from collections import Counter\n",
    "words = text.lower().split()\n",
    "\n",
    "freq = Counter(words)\n",
    "\n",
    "\n",
    "input(\"Enter the word to check: \").lower()\n",
    "\n",
    "print(f\"The word '{specific_word}' appears {freq[specific_word]} times.\")\n"
   ]
  },
  {
   "cell_type": "markdown",
   "id": "de557c05-95a6-4a55-a1cb-6ca833c08e88",
   "metadata": {},
   "source": [
    "#### Q. 22 How can you check if a file is empty before attempting to read its contents"
   ]
  },
  {
   "cell_type": "code",
   "execution_count": 115,
   "id": "d373bc35-3b41-4f45-8831-b38dfcae2585",
   "metadata": {
    "tags": []
   },
   "outputs": [
    {
     "name": "stdout",
     "output_type": "stream",
     "text": [
      "The file is empty\n"
     ]
    }
   ],
   "source": [
    "import os \n",
    "\n",
    "if os.path.getsize(\"My_Intro.json\") == 0 :\n",
    "    print(\"The file is empty\")\n",
    "else:\n",
    "    print(\"The file is not empty\")"
   ]
  },
  {
   "cell_type": "markdown",
   "id": "eab8e330-3aa2-465a-8799-681b537d383b",
   "metadata": {},
   "source": [
    "#### Q. 23 Write a Python program that writes to a log file when an error occurs during file handling."
   ]
  },
  {
   "cell_type": "code",
   "execution_count": 143,
   "id": "a01ec51a-c3ab-4e59-8f4d-9d4749537919",
   "metadata": {},
   "outputs": [],
   "source": [
    "import logging\n",
    "\n",
    "logging.basicConfig(filename = \"file.log\", level = logging.INFO, force= True)\n",
    "\n",
    "try :\n",
    "    with open(\"My_profile\", 'r') as file :\n",
    "        info = file.read()\n",
    "        logging.info(f' This is my intrdoctuon, Descriptionabout me {info}')\n",
    "        \n",
    "except FileNotFoundError as e :\n",
    "    logging.error(f\" Error {e}\")\n",
    "                     "
   ]
  },
  {
   "cell_type": "code",
   "execution_count": null,
   "id": "756e0d56-1f4c-4ba7-8c4a-c51e7ecfb7e5",
   "metadata": {},
   "outputs": [],
   "source": []
  }
 ],
 "metadata": {
  "kernelspec": {
   "display_name": "Python 3 (ipykernel)",
   "language": "python",
   "name": "python3"
  },
  "language_info": {
   "codemirror_mode": {
    "name": "ipython",
    "version": 3
   },
   "file_extension": ".py",
   "mimetype": "text/x-python",
   "name": "python",
   "nbconvert_exporter": "python",
   "pygments_lexer": "ipython3",
   "version": "3.11.4"
  }
 },
 "nbformat": 4,
 "nbformat_minor": 5
}
